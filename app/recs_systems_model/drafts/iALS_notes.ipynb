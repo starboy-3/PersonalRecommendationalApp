{
 "cells": [
  {
   "cell_type": "code",
   "execution_count": 1,
   "id": "97888d16",
   "metadata": {},
   "outputs": [],
   "source": [
    "import numpy as np\n",
    "import scipy.sparse\n",
    "import matplotlib.pyplot as plt\n",
    "from scipy.sparse.linalg import norm as sparse_norm\n",
    "\n",
    "%matplotlib inline"
   ]
  },
  {
   "cell_type": "code",
   "execution_count": 3,
   "id": "370ad62d",
   "metadata": {},
   "outputs": [],
   "source": [
    "# generate relationship & special coefs matrix\n",
    "m, n = 15000, 40000\n",
    "relationship = np.random.rand(m, n)\n",
    "relationship = np.where(relationship < 0.998, 0, 1)"
   ]
  },
  {
   "cell_type": "code",
   "execution_count": 5,
   "id": "1efdcef8",
   "metadata": {},
   "outputs": [],
   "source": [
    "special = np.random.rand(m, n)\n",
    "special[relationship == 0] = 1 # if user didnt attach with item\n",
    "special[special < 0.3] = 0\n",
    "special[np.logical_and(0.3 <= special, special < 0.6)] = 5\n",
    "special[np.logical_and(0.6 <= special, special < 1)] = 7"
   ]
  },
  {
   "cell_type": "code",
   "execution_count": 11,
   "id": "2873213c",
   "metadata": {},
   "outputs": [],
   "source": [
    "from scipy.sparse import csr_matrix\n",
    "\n",
    "sparse_relationship = csr_matrix(relationship)"
   ]
  },
  {
   "cell_type": "code",
   "execution_count": 6,
   "id": "1d02bfdf",
   "metadata": {},
   "outputs": [],
   "source": [
    "def als_functional(A, A_norm, U, VT):\n",
    "    \"\"\"\n",
    "        Input\n",
    "            A: sparse 2D array\n",
    "            A_norm: Frobenius norm of A\n",
    "            U, VT: 2D arrays such that U @ VT approximates A\n",
    "        Output\n",
    "            ||A - U VT||_F\n",
    "    \"\"\"\n",
    "    # A.shape = (m, n); VT.shape = (r, n); U.shape = (m, r); \n",
    "    return np.sqrt(A_norm * A_norm + np.sum((U.T @ U) * (VT @ VT.T)) - 2 * np.sum((U.T @ A) * VT))\n"
   ]
  },
  {
   "cell_type": "code",
   "execution_count": 20,
   "id": "22dd3730",
   "metadata": {},
   "outputs": [],
   "source": [
    "def iALS(A, C, rank, tolerance=1e-2):\n",
    "    \"\"\"\n",
    "        Input\n",
    "            A: 2D m x n numpy array\n",
    "            C: 2D m x n numpy array: special coefs matrix \n",
    "            rank: required rank of the approximation\n",
    "            tolerance: stop when delta_k is less or equal to it\n",
    "            debug: print debug information on each iteration\n",
    "            \n",
    "        Output\n",
    "            U, VT: m x rank, rank x n numpy arrays forming skeleton decomposition;\n",
    "                   rows of matrix VT are orthonormal\n",
    "            fs: list of f(U_k, VT_k)\n",
    "            deltas: list of f(U_{k-1}, VT_{k-1}) - f(U_k, VT_{k})\n",
    "            dists: list of distances from Im(U_{k-1}) and Im(U_k)\n",
    "    \"\"\"\n",
    "    curr_delta, last_f = 1e2, 0\n",
    "    A_upd = A.multiply(C) \n",
    "    A_norm = sparse_norm(A_upd)\n",
    "    Q1_prev, Q_2 = np.zeros((A_upd.shape[0], rank)), np.eye(A_upd.shape[1], rank)\n",
    "    while curr_delta > tolerance:\n",
    "        Q_1, R_1 = np.linalg.qr(A_upd @ Q_2)    # Q_1.shape = (m, r); R_1.shape = (r, r)\n",
    "        Q_2, R_2 = np.linalg.qr(A_upd.T @ Q_1)  # Q_2.shape = (n, r); R_2.shape = (r, r)\n",
    "        curr_f = als_functional(A_upd, A_norm, Q_1 @ R_2.T, Q_2.T)\n",
    "        curr_delta = curr_f - last_f\n",
    "        last_f = curr_f\n",
    "        Q1_prev = Q_1\n",
    "    return Q_1, (R_2.T @ Q_2.T) # v_{ui} * c_{ui}\n"
   ]
  },
  {
   "cell_type": "code",
   "execution_count": 21,
   "id": "8360de51",
   "metadata": {},
   "outputs": [],
   "source": [
    "user_matrix, item_matrix = iALS(sparse_relationship, special, 30)\n",
    "# sparse_relationship.shape, special.shape\n",
    "# sparse_relationship.multiply(special)"
   ]
  },
  {
   "cell_type": "code",
   "execution_count": 42,
   "id": "6322211b",
   "metadata": {},
   "outputs": [],
   "source": [
    "def recommend(score_vec, pred_am, V):\n",
    "    \"\"\"\n",
    "        Input\n",
    "            score_vec: (n_movies, ) numpy array // do we need batch_size users recs?\n",
    "            pred_am: requested number of recommendations\n",
    "            V: 2D numpy array (n_movies x rank)\n",
    "            \n",
    "        Output\n",
    "            recs: batch_size x pred_am array of movies to recommend, with descending predicted rating\n",
    "    \"\"\"\n",
    "    Q, R = np.linalg.qr(V)\n",
    "    mat_recs = ((np.array([score_vec]) @ Q) @ (R @ np.linalg.inv(R.T @ R) @ R.T)) @ Q.T\n",
    "    recs = np.argsort(-mat_recs, axis=1)[:, :pred_am]\n",
    "    return recs[0]\n"
   ]
  },
  {
   "cell_type": "code",
   "execution_count": 32,
   "id": "ae9c77c9",
   "metadata": {},
   "outputs": [],
   "source": [
    "users_batch_vec = np.random.rand(n)\n",
    "users_batch_vec = np.where(users_batch_vec < 0.998, 0, 1)"
   ]
  },
  {
   "cell_type": "code",
   "execution_count": 46,
   "id": "eaead95a",
   "metadata": {},
   "outputs": [
    {
     "data": {
      "text/plain": [
       "array([39026, 24490, 17629, ..., 13349, 13342, 39999], dtype=int64)"
      ]
     },
     "execution_count": 46,
     "metadata": {},
     "output_type": "execute_result"
    }
   ],
   "source": [
    "np.argsort(-users_batch_vec, axis=0)"
   ]
  },
  {
   "cell_type": "code",
   "execution_count": 40,
   "id": "47386a33",
   "metadata": {},
   "outputs": [
    {
     "data": {
      "text/plain": [
       "((1, 40000), (30, 40000))"
      ]
     },
     "execution_count": 40,
     "metadata": {},
     "output_type": "execute_result"
    }
   ],
   "source": [
    "np.array([users_batch_vec]).shape, item_matrix.shape"
   ]
  },
  {
   "cell_type": "code",
   "execution_count": 48,
   "id": "7095f4da",
   "metadata": {},
   "outputs": [],
   "source": [
    "recs_count = 10\n",
    "user_recs = recommend(users_batch_vec, recs_count, item_matrix.T)"
   ]
  },
  {
   "cell_type": "code",
   "execution_count": 44,
   "id": "fd8072ff",
   "metadata": {},
   "outputs": [
    {
     "name": "stdout",
     "output_type": "stream",
     "text": [
      "[ 7 16 14  2 13 22 26 25 23 21]\n"
     ]
    }
   ],
   "source": [
    "print(user_recs)"
   ]
  }
 ],
 "metadata": {
  "kernelspec": {
   "display_name": "Python 3 (ipykernel)",
   "language": "python",
   "name": "python3"
  },
  "language_info": {
   "codemirror_mode": {
    "name": "ipython",
    "version": 3
   },
   "file_extension": ".py",
   "mimetype": "text/x-python",
   "name": "python",
   "nbconvert_exporter": "python",
   "pygments_lexer": "ipython3",
   "version": "3.9.12"
  }
 },
 "nbformat": 4,
 "nbformat_minor": 5
}
